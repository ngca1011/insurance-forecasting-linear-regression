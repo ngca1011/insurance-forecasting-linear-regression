{
 "cells": [
  {
   "cell_type": "code",
   "execution_count": null,
   "metadata": {},
   "outputs": [],
   "source": [
    "import pandas as pd\n",
    "import numpy as np\n",
    "import matplotlib.pyplot as plt\n",
    "import seaborn as sns\n",
    "\n",
    "dataset = pd.read_csv('insurance.csv')\n",
    "\n",
    "dataset.head()"
   ]
  },
  {
   "cell_type": "code",
   "execution_count": null,
   "metadata": {},
   "outputs": [],
   "source": [
    "#Check for missing values in dataset\n",
    "dataset.isnull().sum()\n",
    "\n",
    "#Visualizing the distribution of charges\n",
    "sns.displot(dataset, x=\"charges\", color = 'b')\n",
    "plt.title('Distribution of charges')\n",
    "plt.show()"
   ]
  },
  {
   "cell_type": "code",
   "execution_count": null,
   "metadata": {},
   "outputs": [],
   "source": [
    "sns.boxplot(x='children', y='charges',hue='sex',data=dataset,palette='rainbow')\n",
    "plt.title('Box plot of charges vs children');"
   ]
  },
  {
   "cell_type": "code",
   "execution_count": null,
   "metadata": {},
   "outputs": [],
   "source": [
    "#Removing dummy variables trap\n",
    "categorical_columns = ['sex', 'children', 'smoker', 'region']\n",
    "dataset_encode = pd.get_dummies(data = dataset, prefix = 'ENCODED', prefix_sep = '_',\n",
    "                                columns = categorical_columns,\n",
    "                                drop_first = True,\n",
    "                                dtype = 'int8')\n",
    "\n",
    "## Log transform\n",
    "dataset_encode['charges'] = np.log(dataset_encode['charges'])\n",
    "\n",
    "#Train test split\n",
    "from sklearn.model_selection import train_test_split\n",
    "x = dataset_encode.drop('charges',axis=1) # Independet variable\n",
    "y = dataset_encode['charges'] # dependent variable\n",
    "\n",
    "x_train, x_test, y_train, y_test = train_test_split(x,y,test_size=0.2)\n",
    "\n",
    "#Add x0 = 1 to the dataset\n",
    "x_train_0 = np.c_[np.ones((x_train.shape[0], 1)), x_train]\n",
    "x_test_0 = np.c_[np.ones((x_test.shape[0], 1)), x_test]\n",
    "\n",
    "#Build a model using the linear regression equation theta =(x^T*x)^−1 * x^T * y\n",
    "theta = np.matmul(np.linalg.inv( np.matmul(x_train_0.T,x_train_0) ), np.matmul(x_train_0.T,y_train))\n",
    "\n",
    "#Test the model, evaluate the Model by calculating R^2 (the coefficient of determination)\n",
    "y_predition = np.matmul(x_test_0, theta)\n",
    "\n",
    "SSE = np.sum((y_predition - y_test) ** 2)\n",
    "SST = np.sum((y_test - y_test.mean()) ** 2)\n",
    "R_square = 1 - (SSE/SST)\n",
    "\n",
    "print(\"The R square value is :\", R_square)\n",
    "\n",
    "#Mean Square Error calculation\n",
    "MSE = np.sum((y_predition - y_test) ** 2) / x_test.shape[0]\n",
    "\n",
    "print(\"The Mean Square Error :\", MSE)"
   ]
  }
 ],
 "metadata": {
  "kernelspec": {
   "display_name": "Python 3",
   "language": "python",
   "name": "python3"
  },
  "language_info": {
   "name": "python",
   "version": "3.11.5"
  }
 },
 "nbformat": 4,
 "nbformat_minor": 2
}
